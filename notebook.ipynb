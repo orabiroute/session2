{
 "cells": [
  {
   "cell_type": "code",
   "execution_count": 2,
   "id": "3e8caafc",
   "metadata": {},
   "outputs": [],
   "source": [
    "from langchain_openai import ChatOpenAI\n",
    "from langchain.memory import ConversationBufferMemory\n",
    "from langchain.prompts import ChatPromptTemplate\n",
    "from langchain.chains import LLMChain\n",
    "from langchain_core.messages import AIMessage, HumanMessage"
   ]
  },
  {
   "cell_type": "code",
   "execution_count": 3,
   "id": "b89df5c5",
   "metadata": {},
   "outputs": [
    {
     "data": {
      "text/plain": [
       "True"
      ]
     },
     "execution_count": 3,
     "metadata": {},
     "output_type": "execute_result"
    }
   ],
   "source": [
    "from dotenv import load_dotenv\n",
    "load_dotenv()"
   ]
  },
  {
   "cell_type": "code",
   "execution_count": 4,
   "id": "5cf6f3fe",
   "metadata": {},
   "outputs": [],
   "source": [
    "llm = ChatOpenAI(\n",
    "    model=\"gpt-4o-mini\",\n",
    "    temperature=0.6\n",
    ")"
   ]
  },
  {
   "cell_type": "code",
   "execution_count": null,
   "id": "b5f18ebb",
   "metadata": {},
   "outputs": [],
   "source": [
    "api_key = \"95d9194ecb001d67099a5b98fafed157258968248e24c8f7abb272a3ec4b1220\"\n",
    "\n",
    "from langchain_together import ChatTogether\n",
    "\n",
    "llm = ChatTogether(\n",
    "    model=\"deepseek-ai/DeepSeek-V3\",\n",
    "    temperature=0,\n",
    "    api_key=api_key,\n",
    ")"
   ]
  },
  {
   "cell_type": "code",
   "execution_count": 5,
   "id": "3d86f5e1",
   "metadata": {},
   "outputs": [],
   "source": [
    "prompt = ChatPromptTemplate.from_template(\"\"\"\n",
    "You are a helpful AI assistant having a conversation with a user. Use the context from previous messages to provide relevant and coherent responses.\n",
    "\n",
    "Previous conversation:\n",
    "{chat_history}\n",
    "\n",
    "Current user message: {user_input}\n",
    "\n",
    "Please respond naturally and helpfully, taking into account the conversation history and context.\n",
    "\"\"\")"
   ]
  },
  {
   "cell_type": "code",
   "execution_count": 6,
   "id": "0811922a",
   "metadata": {},
   "outputs": [
    {
     "name": "stderr",
     "output_type": "stream",
     "text": [
      "/var/folders/8r/f598trz55xnb0kvpw1j3cglh0000gn/T/ipykernel_7730/2056754934.py:1: LangChainDeprecationWarning: Please see the migration guide at: https://python.langchain.com/docs/versions/migrating_memory/\n",
      "  memory = ConversationBufferMemory(\n"
     ]
    }
   ],
   "source": [
    "memory = ConversationBufferMemory(\n",
    "    memory_key=\"chat_history\",\n",
    "    return_message=True\n",
    ")"
   ]
  },
  {
   "cell_type": "code",
   "execution_count": 7,
   "id": "9fbde9f5",
   "metadata": {},
   "outputs": [
    {
     "name": "stderr",
     "output_type": "stream",
     "text": [
      "/var/folders/8r/f598trz55xnb0kvpw1j3cglh0000gn/T/ipykernel_7730/3070024790.py:1: LangChainDeprecationWarning: The class `LLMChain` was deprecated in LangChain 0.1.17 and will be removed in 1.0. Use :meth:`~RunnableSequence, e.g., `prompt | llm`` instead.\n",
      "  chain = LLMChain(\n"
     ]
    }
   ],
   "source": [
    "chain = LLMChain(\n",
    "    llm=llm,\n",
    "    prompt=prompt,\n",
    "    memory=memory\n",
    ")"
   ]
  },
  {
   "cell_type": "code",
   "execution_count": 8,
   "id": "d934cd8d",
   "metadata": {},
   "outputs": [
    {
     "name": "stderr",
     "output_type": "stream",
     "text": [
      "/var/folders/8r/f598trz55xnb0kvpw1j3cglh0000gn/T/ipykernel_7730/993614720.py:6: LangChainDeprecationWarning: The method `Chain.run` was deprecated in langchain 0.1.0 and will be removed in 1.0. Use :meth:`~invoke` instead.\n",
      "  result = chain.run({\"user_input\":user_input})\n"
     ]
    },
    {
     "name": "stdout",
     "output_type": "stream",
     "text": [
      "Q: my name is orabi\n",
      "A: Nice to meet you, Orabi! How can I assist you today?\n",
      "--------------------------------------------------\n",
      "Q: say my name\n",
      "A: Sure thing, Orabi! How can I help you today?\n",
      "--------------------------------------------------\n"
     ]
    }
   ],
   "source": [
    "while True:\n",
    "    user_input = input(\"Enter your message\")\n",
    "    if user_input.lower() in ['exit', 'quit', 'close']:\n",
    "        break\n",
    "\n",
    "    result = chain.run({\"user_input\":user_input})\n",
    "    print(f\"Q: {user_input}\")\n",
    "    print(f\"A: {result}\")\n",
    "    print(\"-\"*50)"
   ]
  },
  {
   "cell_type": "code",
   "execution_count": 9,
   "id": "c98480bc",
   "metadata": {},
   "outputs": [
    {
     "data": {
      "text/plain": [
       "'Human: my name is orabi\\nAI: Nice to meet you, Orabi! How can I assist you today?\\nHuman: say my name\\nAI: Sure thing, Orabi! How can I help you today?'"
      ]
     },
     "execution_count": 9,
     "metadata": {},
     "output_type": "execute_result"
    }
   ],
   "source": [
    "memory.buffer"
   ]
  },
  {
   "cell_type": "markdown",
   "id": "523ff877",
   "metadata": {},
   "source": [
    "prompt ---> LLM ----> StrOutputParser"
   ]
  },
  {
   "cell_type": "code",
   "execution_count": null,
   "id": "3ccd9721",
   "metadata": {},
   "outputs": [],
   "source": [
    "{AIMessage(\"vjubvdbv`bdhj\"), }"
   ]
  }
 ],
 "metadata": {
  "kernelspec": {
   "display_name": "session1",
   "language": "python",
   "name": "python3"
  },
  "language_info": {
   "codemirror_mode": {
    "name": "ipython",
    "version": 3
   },
   "file_extension": ".py",
   "mimetype": "text/x-python",
   "name": "python",
   "nbconvert_exporter": "python",
   "pygments_lexer": "ipython3",
   "version": "3.11.13"
  }
 },
 "nbformat": 4,
 "nbformat_minor": 5
}
